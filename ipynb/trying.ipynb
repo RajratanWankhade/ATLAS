{
 "cells": [
  {
   "cell_type": "code",
   "execution_count": 2,
   "metadata": {},
   "outputs": [],
   "source": [
    "import scipy\n",
    "import numpy as np\n",
    "import matplotlib as mpl\n",
    "import matplotlib.pyplot as plt\n",
    "import glob\n",
    "import nibabel as nib\n",
    "\n",
    "from skimage.filters import gaussian\n",
    "from skimage import exposure\n",
    "from skimage.transform import rotate, resize\n",
    "from skimage.restoration import inpaint\n",
    "from skimage.util import random_noise\n",
    "\n",
    "import scipy.ndimage as ndi\n",
    "\n",
    "\n"
   ]
  },
  {
   "cell_type": "code",
   "execution_count": 2,
   "metadata": {},
   "outputs": [
    {
     "ename": "FileNotFoundError",
     "evalue": "No such file or no access: 'atlas-train-dataset-1.0.1/atlas-train-dataset-1.0.1/train/imagesTr/im0.nii.gz'",
     "output_type": "error",
     "traceback": [
      "\u001b[1;31m---------------------------------------------------------------------------\u001b[0m",
      "\u001b[1;31mFileNotFoundError\u001b[0m                         Traceback (most recent call last)",
      "File \u001b[1;32mc:\\Users\\rajwn\\Videos\\monai_ML_project\\Atlas\\venv\\Lib\\site-packages\\nibabel\\loadsave.py:101\u001b[0m, in \u001b[0;36mload\u001b[1;34m(filename, **kwargs)\u001b[0m\n\u001b[0;32m    100\u001b[0m \u001b[38;5;28;01mtry\u001b[39;00m:\n\u001b[1;32m--> 101\u001b[0m     stat_result \u001b[38;5;241m=\u001b[39m \u001b[43mos\u001b[49m\u001b[38;5;241;43m.\u001b[39;49m\u001b[43mstat\u001b[49m\u001b[43m(\u001b[49m\u001b[43mfilename\u001b[49m\u001b[43m)\u001b[49m\n\u001b[0;32m    102\u001b[0m \u001b[38;5;28;01mexcept\u001b[39;00m \u001b[38;5;167;01mOSError\u001b[39;00m:\n",
      "\u001b[1;31mFileNotFoundError\u001b[0m: [WinError 3] The system cannot find the path specified: 'atlas-train-dataset-1.0.1/atlas-train-dataset-1.0.1/train/imagesTr/im0.nii.gz'",
      "\nDuring handling of the above exception, another exception occurred:\n",
      "\u001b[1;31mFileNotFoundError\u001b[0m                         Traceback (most recent call last)",
      "Cell \u001b[1;32mIn[2], line 5\u001b[0m\n\u001b[0;32m      3\u001b[0m \u001b[38;5;66;03m# Load the NIfTI image\u001b[39;00m\n\u001b[0;32m      4\u001b[0m file_path \u001b[38;5;241m=\u001b[39m \u001b[38;5;124mr\u001b[39m\u001b[38;5;124m\"\u001b[39m\u001b[38;5;124matlas-train-dataset-1.0.1\u001b[39m\u001b[38;5;124m\\\u001b[39m\u001b[38;5;124matlas-train-dataset-1.0.1\u001b[39m\u001b[38;5;124m\\\u001b[39m\u001b[38;5;124mtrain\u001b[39m\u001b[38;5;124m\\\u001b[39m\u001b[38;5;124mimagesTr\u001b[39m\u001b[38;5;124m\\\u001b[39m\u001b[38;5;124mim0.nii.gz\u001b[39m\u001b[38;5;124m\"\u001b[39m\n\u001b[1;32m----> 5\u001b[0m nii_image \u001b[38;5;241m=\u001b[39m \u001b[43mnib\u001b[49m\u001b[38;5;241;43m.\u001b[39;49m\u001b[43mload\u001b[49m\u001b[43m(\u001b[49m\u001b[43mfile_path\u001b[49m\u001b[43m)\u001b[49m\n\u001b[0;32m      7\u001b[0m \u001b[38;5;66;03m# Get the shape of the data\u001b[39;00m\n\u001b[0;32m      8\u001b[0m data_shape \u001b[38;5;241m=\u001b[39m nii_image\u001b[38;5;241m.\u001b[39mshape\n",
      "File \u001b[1;32mc:\\Users\\rajwn\\Videos\\monai_ML_project\\Atlas\\venv\\Lib\\site-packages\\nibabel\\loadsave.py:103\u001b[0m, in \u001b[0;36mload\u001b[1;34m(filename, **kwargs)\u001b[0m\n\u001b[0;32m    101\u001b[0m     stat_result \u001b[38;5;241m=\u001b[39m os\u001b[38;5;241m.\u001b[39mstat(filename)\n\u001b[0;32m    102\u001b[0m \u001b[38;5;28;01mexcept\u001b[39;00m \u001b[38;5;167;01mOSError\u001b[39;00m:\n\u001b[1;32m--> 103\u001b[0m     \u001b[38;5;28;01mraise\u001b[39;00m \u001b[38;5;167;01mFileNotFoundError\u001b[39;00m(\u001b[38;5;124mf\u001b[39m\u001b[38;5;124m\"\u001b[39m\u001b[38;5;124mNo such file or no access: \u001b[39m\u001b[38;5;124m'\u001b[39m\u001b[38;5;132;01m{\u001b[39;00mfilename\u001b[38;5;132;01m}\u001b[39;00m\u001b[38;5;124m'\u001b[39m\u001b[38;5;124m\"\u001b[39m)\n\u001b[0;32m    104\u001b[0m \u001b[38;5;28;01mif\u001b[39;00m stat_result\u001b[38;5;241m.\u001b[39mst_size \u001b[38;5;241m<\u001b[39m\u001b[38;5;241m=\u001b[39m \u001b[38;5;241m0\u001b[39m:\n\u001b[0;32m    105\u001b[0m     \u001b[38;5;28;01mraise\u001b[39;00m ImageFileError(\u001b[38;5;124mf\u001b[39m\u001b[38;5;124m\"\u001b[39m\u001b[38;5;124mEmpty file: \u001b[39m\u001b[38;5;124m'\u001b[39m\u001b[38;5;132;01m{\u001b[39;00mfilename\u001b[38;5;132;01m}\u001b[39;00m\u001b[38;5;124m'\u001b[39m\u001b[38;5;124m\"\u001b[39m)\n",
      "\u001b[1;31mFileNotFoundError\u001b[0m: No such file or no access: 'atlas-train-dataset-1.0.1/atlas-train-dataset-1.0.1/train/imagesTr/im0.nii.gz'"
     ]
    }
   ],
   "source": [
    "import nibabel as nib\n",
    "\n",
    "# Load the NIfTI image\n",
    "file_path = r\"atlas-train-dataset-1.0.1\\atlas-train-dataset-1.0.1\\train\\imagesTr\\im0.nii.gz\"\n",
    "nii_image = nib.load(file_path)\n",
    "\n",
    "# Get the shape of the data\n",
    "data_shape = nii_image.shape\n",
    "\n",
    "# Print the number of slices (assuming slices are along the third dimension)\n",
    "num_slices = data_shape[-1]\n",
    "print(f\"Number of slices in the NIfTI file: {num_slices}\")\n"
   ]
  },
  {
   "cell_type": "code",
   "execution_count": null,
   "metadata": {},
   "outputs": [
    {
     "name": "stdout",
     "output_type": "stream",
     "text": [
      "No .nii files found in the specified folder.\n"
     ]
    }
   ],
   "source": []
  },
  {
   "cell_type": "code",
   "execution_count": 3,
   "metadata": {},
   "outputs": [
    {
     "ename": "FileNotFoundError",
     "evalue": "[WinError 3] The system cannot find the path specified: 'C:\\\\Users\\\\rajwn\\\\Videos\\\\monai_ML_project\\\\Atlas\\\\atlas-train-dataset-1.0.1\\\\atlas-train-dataset-1.0.1\\\\train\\\\imagesTr'",
     "output_type": "error",
     "traceback": [
      "\u001b[1;31m---------------------------------------------------------------------------\u001b[0m",
      "\u001b[1;31mFileNotFoundError\u001b[0m                         Traceback (most recent call last)",
      "Cell \u001b[1;32mIn[3], line 45\u001b[0m\n\u001b[0;32m     43\u001b[0m folder_path \u001b[38;5;241m=\u001b[39m \u001b[38;5;124mr\u001b[39m\u001b[38;5;124m\"\u001b[39m\u001b[38;5;124mC:\u001b[39m\u001b[38;5;124m\\\u001b[39m\u001b[38;5;124mUsers\u001b[39m\u001b[38;5;124m\\\u001b[39m\u001b[38;5;124mrajwn\u001b[39m\u001b[38;5;124m\\\u001b[39m\u001b[38;5;124mVideos\u001b[39m\u001b[38;5;124m\\\u001b[39m\u001b[38;5;124mmonai_ML_project\u001b[39m\u001b[38;5;124m\\\u001b[39m\u001b[38;5;124mAtlas\u001b[39m\u001b[38;5;124m\\\u001b[39m\u001b[38;5;124matlas-train-dataset-1.0.1\u001b[39m\u001b[38;5;124m\\\u001b[39m\u001b[38;5;124matlas-train-dataset-1.0.1\u001b[39m\u001b[38;5;124m\\\u001b[39m\u001b[38;5;124mtrain\u001b[39m\u001b[38;5;124m\\\u001b[39m\u001b[38;5;124mimagesTr\u001b[39m\u001b[38;5;124m\"\u001b[39m\n\u001b[0;32m     44\u001b[0m \u001b[38;5;28;01mtry\u001b[39;00m:\n\u001b[1;32m---> 45\u001b[0m     slices_info \u001b[38;5;241m=\u001b[39m \u001b[43mcount_slices_in_folder\u001b[49m\u001b[43m(\u001b[49m\u001b[43mfolder_path\u001b[49m\u001b[43m)\u001b[49m\n\u001b[0;32m     46\u001b[0m     \u001b[38;5;28mprint\u001b[39m(\u001b[38;5;124m\"\u001b[39m\u001b[38;5;124mSlices count for each file:\u001b[39m\u001b[38;5;124m\"\u001b[39m)\n\u001b[0;32m     47\u001b[0m     \u001b[38;5;28;01mfor\u001b[39;00m file, count \u001b[38;5;129;01min\u001b[39;00m slices_info\u001b[38;5;241m.\u001b[39mitems():\n",
      "Cell \u001b[1;32mIn[3], line 15\u001b[0m, in \u001b[0;36mcount_slices_in_folder\u001b[1;34m(folder_path)\u001b[0m\n\u001b[0;32m      5\u001b[0m \u001b[38;5;250m\u001b[39m\u001b[38;5;124;03m\"\"\"\u001b[39;00m\n\u001b[0;32m      6\u001b[0m \u001b[38;5;124;03mReads the number of slices in all .nii.gz images in the folder.\u001b[39;00m\n\u001b[0;32m      7\u001b[0m \n\u001b[1;32m   (...)\u001b[0m\n\u001b[0;32m     12\u001b[0m \u001b[38;5;124;03m    dict: A dictionary with file names as keys and the number of slices as values.\u001b[39;00m\n\u001b[0;32m     13\u001b[0m \u001b[38;5;124;03m\"\"\"\u001b[39;00m\n\u001b[0;32m     14\u001b[0m \u001b[38;5;66;03m# List all .nii.gz files in the folder\u001b[39;00m\n\u001b[1;32m---> 15\u001b[0m nii_files \u001b[38;5;241m=\u001b[39m [f \u001b[38;5;28;01mfor\u001b[39;00m f \u001b[38;5;129;01min\u001b[39;00m \u001b[43mos\u001b[49m\u001b[38;5;241;43m.\u001b[39;49m\u001b[43mlistdir\u001b[49m\u001b[43m(\u001b[49m\u001b[43mfolder_path\u001b[49m\u001b[43m)\u001b[49m \u001b[38;5;28;01mif\u001b[39;00m f\u001b[38;5;241m.\u001b[39mendswith(\u001b[38;5;124m'\u001b[39m\u001b[38;5;124m.nii.gz\u001b[39m\u001b[38;5;124m'\u001b[39m)]\n\u001b[0;32m     17\u001b[0m \u001b[38;5;66;03m# Check if there are any .nii.gz files\u001b[39;00m\n\u001b[0;32m     18\u001b[0m \u001b[38;5;28;01mif\u001b[39;00m \u001b[38;5;28mlen\u001b[39m(nii_files) \u001b[38;5;241m==\u001b[39m \u001b[38;5;241m0\u001b[39m:\n",
      "\u001b[1;31mFileNotFoundError\u001b[0m: [WinError 3] The system cannot find the path specified: 'C:\\\\Users\\\\rajwn\\\\Videos\\\\monai_ML_project\\\\Atlas\\\\atlas-train-dataset-1.0.1\\\\atlas-train-dataset-1.0.1\\\\train\\\\imagesTr'"
     ]
    }
   ],
   "source": [
    "import os\n",
    "import nibabel as nib\n",
    "\n",
    "def count_slices_in_folder(folder_path):\n",
    "    \"\"\"\n",
    "    Reads the number of slices in all .nii.gz images in the folder.\n",
    "\n",
    "    Parameters:\n",
    "        folder_path (str): Path to the folder containing .nii.gz files.\n",
    "\n",
    "    Returns:\n",
    "        dict: A dictionary with file names as keys and the number of slices as values.\n",
    "    \"\"\"\n",
    "    # List all .nii.gz files in the folder\n",
    "    nii_files = [f for f in os.listdir(folder_path) if f.endswith('.nii.gz')]\n",
    "    \n",
    "    # Check if there are any .nii.gz files\n",
    "    if len(nii_files) == 0:\n",
    "        raise ValueError(\"No .nii.gz files found in the specified folder.\")\n",
    "    \n",
    "    # Dictionary to store slices count\n",
    "    slices_count = {}\n",
    "    \n",
    "    for nii_file in nii_files:\n",
    "        file_path = os.path.join(folder_path, nii_file)\n",
    "        \n",
    "        try:\n",
    "            # Load the NIfTI file\n",
    "            nii_image = nib.load(file_path)\n",
    "            \n",
    "            # Get the number of slices (assumed along the third dimension)\n",
    "            num_slices = nii_image.shape[-1]\n",
    "            \n",
    "            # Store in the dictionary\n",
    "            slices_count[nii_file] = num_slices\n",
    "        \n",
    "        except Exception as e:\n",
    "            print(f\"Error reading file {nii_file}: {e}\")\n",
    "    \n",
    "    return slices_count\n",
    "\n",
    "# Example usage\n",
    "folder_path = r\"C:\\Users\\rajwn\\Videos\\monai_ML_project\\Atlas\\atlas-train-dataset-1.0.1\\atlas-train-dataset-1.0.1\\train\\imagesTr\"\n",
    "try:\n",
    "    slices_info = count_slices_in_folder(folder_path)\n",
    "    print(\"Slices count for each file:\")\n",
    "    for file, count in slices_info.items():\n",
    "        print(f\"{file}: {count} slices\")\n",
    "except ValueError as e:\n",
    "    print(e)\n"
   ]
  },
  {
   "cell_type": "code",
   "execution_count": 4,
   "metadata": {},
   "outputs": [
    {
     "ename": "FileNotFoundError",
     "evalue": "[WinError 3] The system cannot find the path specified: 'C:\\\\Users\\\\rajwn\\\\Videos\\\\monai_ML_project\\\\Atlas\\\\atlas-train-dataset-1.0.1\\\\atlas-train-dataset-1.0.1\\\\train\\\\imagesTr'",
     "output_type": "error",
     "traceback": [
      "\u001b[1;31m---------------------------------------------------------------------------\u001b[0m",
      "\u001b[1;31mFileNotFoundError\u001b[0m                         Traceback (most recent call last)",
      "Cell \u001b[1;32mIn[4], line 47\u001b[0m\n\u001b[0;32m     45\u001b[0m folder_path \u001b[38;5;241m=\u001b[39m \u001b[38;5;124mr\u001b[39m\u001b[38;5;124m\"\u001b[39m\u001b[38;5;124mC:\u001b[39m\u001b[38;5;124m\\\u001b[39m\u001b[38;5;124mUsers\u001b[39m\u001b[38;5;124m\\\u001b[39m\u001b[38;5;124mrajwn\u001b[39m\u001b[38;5;124m\\\u001b[39m\u001b[38;5;124mVideos\u001b[39m\u001b[38;5;124m\\\u001b[39m\u001b[38;5;124mmonai_ML_project\u001b[39m\u001b[38;5;124m\\\u001b[39m\u001b[38;5;124mAtlas\u001b[39m\u001b[38;5;124m\\\u001b[39m\u001b[38;5;124matlas-train-dataset-1.0.1\u001b[39m\u001b[38;5;124m\\\u001b[39m\u001b[38;5;124matlas-train-dataset-1.0.1\u001b[39m\u001b[38;5;124m\\\u001b[39m\u001b[38;5;124mtrain\u001b[39m\u001b[38;5;124m\\\u001b[39m\u001b[38;5;124mimagesTr\u001b[39m\u001b[38;5;124m\"\u001b[39m\n\u001b[0;32m     46\u001b[0m \u001b[38;5;28;01mtry\u001b[39;00m:\n\u001b[1;32m---> 47\u001b[0m     avg_slices \u001b[38;5;241m=\u001b[39m \u001b[43maverage_slices_in_folder\u001b[49m\u001b[43m(\u001b[49m\u001b[43mfolder_path\u001b[49m\u001b[43m)\u001b[49m\n\u001b[0;32m     48\u001b[0m     \u001b[38;5;28mprint\u001b[39m(\u001b[38;5;124mf\u001b[39m\u001b[38;5;124m\"\u001b[39m\u001b[38;5;124mAverage number of slices across all .nii.gz files: \u001b[39m\u001b[38;5;132;01m{\u001b[39;00mavg_slices\u001b[38;5;132;01m:\u001b[39;00m\u001b[38;5;124m.2f\u001b[39m\u001b[38;5;132;01m}\u001b[39;00m\u001b[38;5;124m\"\u001b[39m)\n\u001b[0;32m     49\u001b[0m \u001b[38;5;28;01mexcept\u001b[39;00m \u001b[38;5;167;01mValueError\u001b[39;00m \u001b[38;5;28;01mas\u001b[39;00m e:\n",
      "Cell \u001b[1;32mIn[4], line 15\u001b[0m, in \u001b[0;36maverage_slices_in_folder\u001b[1;34m(folder_path)\u001b[0m\n\u001b[0;32m      5\u001b[0m \u001b[38;5;250m\u001b[39m\u001b[38;5;124;03m\"\"\"\u001b[39;00m\n\u001b[0;32m      6\u001b[0m \u001b[38;5;124;03mCalculates the average number of slices in all .nii.gz images in the folder.\u001b[39;00m\n\u001b[0;32m      7\u001b[0m \n\u001b[1;32m   (...)\u001b[0m\n\u001b[0;32m     12\u001b[0m \u001b[38;5;124;03m    float: The average number of slices.\u001b[39;00m\n\u001b[0;32m     13\u001b[0m \u001b[38;5;124;03m\"\"\"\u001b[39;00m\n\u001b[0;32m     14\u001b[0m \u001b[38;5;66;03m# List all .nii.gz files in the folder\u001b[39;00m\n\u001b[1;32m---> 15\u001b[0m nii_files \u001b[38;5;241m=\u001b[39m [f \u001b[38;5;28;01mfor\u001b[39;00m f \u001b[38;5;129;01min\u001b[39;00m \u001b[43mos\u001b[49m\u001b[38;5;241;43m.\u001b[39;49m\u001b[43mlistdir\u001b[49m\u001b[43m(\u001b[49m\u001b[43mfolder_path\u001b[49m\u001b[43m)\u001b[49m \u001b[38;5;28;01mif\u001b[39;00m f\u001b[38;5;241m.\u001b[39mendswith(\u001b[38;5;124m'\u001b[39m\u001b[38;5;124m.nii.gz\u001b[39m\u001b[38;5;124m'\u001b[39m)]\n\u001b[0;32m     17\u001b[0m \u001b[38;5;66;03m# Check if there are any .nii.gz files\u001b[39;00m\n\u001b[0;32m     18\u001b[0m \u001b[38;5;28;01mif\u001b[39;00m \u001b[38;5;28mlen\u001b[39m(nii_files) \u001b[38;5;241m==\u001b[39m \u001b[38;5;241m0\u001b[39m:\n",
      "\u001b[1;31mFileNotFoundError\u001b[0m: [WinError 3] The system cannot find the path specified: 'C:\\\\Users\\\\rajwn\\\\Videos\\\\monai_ML_project\\\\Atlas\\\\atlas-train-dataset-1.0.1\\\\atlas-train-dataset-1.0.1\\\\train\\\\imagesTr'"
     ]
    }
   ],
   "source": [
    "import os\n",
    "import nibabel as nib\n",
    "\n",
    "def average_slices_in_folder(folder_path):\n",
    "    \"\"\"\n",
    "    Calculates the average number of slices in all .nii.gz images in the folder.\n",
    "\n",
    "    Parameters:\n",
    "        folder_path (str): Path to the folder containing .nii.gz files.\n",
    "\n",
    "    Returns:\n",
    "        float: The average number of slices.\n",
    "    \"\"\"\n",
    "    # List all .nii.gz files in the folder\n",
    "    nii_files = [f for f in os.listdir(folder_path) if f.endswith('.nii.gz')]\n",
    "    \n",
    "    # Check if there are any .nii.gz files\n",
    "    if len(nii_files) == 0:\n",
    "        raise ValueError(\"No .nii.gz files found in the specified folder.\")\n",
    "    \n",
    "    # Initialize total slices count\n",
    "    total_slices = 0\n",
    "    \n",
    "    for nii_file in nii_files:\n",
    "        file_path = os.path.join(folder_path, nii_file)\n",
    "        \n",
    "        try:\n",
    "            # Load the NIfTI file\n",
    "            nii_image = nib.load(file_path)\n",
    "            \n",
    "            # Get the number of slices (assumed along the third dimension)\n",
    "            num_slices = nii_image.shape[-1]\n",
    "            \n",
    "            # Add to the total slices count\n",
    "            total_slices += num_slices\n",
    "        \n",
    "        except Exception as e:\n",
    "            print(f\"Error reading file {nii_file}: {e}\")\n",
    "    \n",
    "    # Calculate the average\n",
    "    average_slices = total_slices / len(nii_files)\n",
    "    return average_slices\n",
    "\n",
    "# Example usage\n",
    "folder_path = r\"C:\\Users\\rajwn\\Videos\\monai_ML_project\\Atlas\\atlas-train-dataset-1.0.1\\atlas-train-dataset-1.0.1\\train\\imagesTr\"\n",
    "try:\n",
    "    avg_slices = average_slices_in_folder(folder_path)\n",
    "    print(f\"Average number of slices across all .nii.gz files: {avg_slices:.2f}\")\n",
    "except ValueError as e:\n",
    "    print(e)\n"
   ]
  },
  {
   "cell_type": "markdown",
   "metadata": {},
   "source": [
    "# Empty File"
   ]
  },
  {
   "cell_type": "code",
   "execution_count": 6,
   "metadata": {},
   "outputs": [],
   "source": [
    "#input_nifty_file_path = r\"C:\\Users\\rajwn\\Videos\\monai_ML_project\\Atlas\\atlas-train-dataset-1.0.1\\atlas-train-dataset-1.0.1\\train\\TrainSegmentation/*\"\n",
    "input_nifty_file_path = r\"..\\atlas-train-dataset-1.0.1\\atlas-train-dataset-1.0.1\\train\\TrainSegmentation/*\"\n",
    "list_labels = glob.glob(input_nifty_file_path)"
   ]
  },
  {
   "cell_type": "code",
   "execution_count": 5,
   "metadata": {},
   "outputs": [],
   "source": [
    "for patient in list_labels:\n",
    "    nifty_file = nib.load(patient)\n",
    "    fdata = nifty_file.get_fdata()\n",
    "    np_unique = np.unique(fdata)\n",
    "    if len(np_unique) == 1:\n",
    "        print(patient)"
   ]
  },
  {
   "cell_type": "code",
   "execution_count": 5,
   "metadata": {},
   "outputs": [],
   "source": [
    "nifty_file = r\"C:\\Users\\rajwn\\Videos\\monai_ML_project\\Atlas\\atlas-train-dataset-1.0.1\\atlas-train-dataset-1.0.1\\train\\labelsTr\\*\""
   ]
  },
  {
   "cell_type": "code",
   "execution_count": 6,
   "metadata": {},
   "outputs": [],
   "source": [
    "list_labels = glob.glob(nifty_file)"
   ]
  },
  {
   "cell_type": "code",
   "execution_count": 7,
   "metadata": {},
   "outputs": [],
   "source": [
    "for patient in list_labels:\n",
    "\n",
    "\n",
    "    niff = nib.load(patient)\n",
    "    fniff = niff.get_fdata()\n",
    "    unique_fniff = np.unique(fniff)\n",
    "    if len(unique_fniff) == 1:\n",
    "        print(patient)\n"
   ]
  },
  {
   "cell_type": "code",
   "execution_count": 1,
   "metadata": {},
   "outputs": [
    {
     "name": "stdout",
     "output_type": "stream",
     "text": [
      "Number of GPU:  1\n",
      "GPU Name:  NVIDIA GeForce RTX 3060 Laptop GPU\n",
      "Using device: cuda\n"
     ]
    }
   ],
   "source": [
    "import torch\n",
    "\n",
    "print(\"Number of GPU: \", torch.cuda.device_count())\n",
    "print(\"GPU Name: \", torch.cuda.get_device_name())\n",
    "\n",
    "\n",
    "device = torch.device('cuda' if torch.cuda.is_available() else 'cpu')\n",
    "print('Using device:', device)"
   ]
  },
  {
   "cell_type": "code",
   "execution_count": null,
   "metadata": {},
   "outputs": [],
   "source": []
  },
  {
   "cell_type": "code",
   "execution_count": null,
   "metadata": {},
   "outputs": [],
   "source": [
    "import monai\n",
    "import os\n",
    "from glob import glob\n",
    "import numpy as np \n",
    "import torch\n",
    "import matplotlib.pyplot as plt\n",
    "from monai.transforms import (\n",
    "    Compose,\n",
    "    LoadImaged,\n",
    "    ToTensord, \n",
    "    EnsureChannelFirstd,\n",
    "    Spacingd,\n",
    "    ScaleIntensityRanged,\n",
    "    Orientationd,\n",
    "   \n",
    "    CropForegroundd,\n",
    "    \n",
    ")\n",
    "\n",
    "from monai.data import Dataset,DataLoader,CacheDataset\n",
    "from monai.utils import set_determinism, first\n",
    "\n",
    "\n",
    "\n",
    "import matplotlib.pyplot as plt"
   ]
  },
  {
   "cell_type": "code",
   "execution_count": 4,
   "metadata": {},
   "outputs": [],
   "source": [
    "in_dir = r\"C:\\Users\\rajwn\\Videos\\monai_ML_project\\Atlas\\atlas-train-dataset-1.0.1\\atlas-train-dataset-1.0.1\\train\""
   ]
  },
  {
   "cell_type": "code",
   "execution_count": null,
   "metadata": {},
   "outputs": [],
   "source": [
    "import os\n",
    "from glob import glob\n",
    "#import shutil\n",
    "from tqdm import tqdm\n",
    "#import dicom2nifti\n",
    "#import numpy as np\n",
    "#import nibabel as nib\n",
    "from monai.transforms import (\n",
    "    Compose,\n",
    "    EnsureChannelFirstD,\n",
    "    LoadImaged,\n",
    "    Resized,\n",
    "    ToTensord,\n",
    "    Spacingd,\n",
    "    Orientationd,\n",
    "    ScaleIntensityRanged,\n",
    "    CropForegroundd,\n",
    "\n",
    ")\n",
    "from monai.data import DataLoader, Dataset, CacheDataset\n",
    "from monai.utils import set_determinism\n",
    "\n",
    "\n",
    "def prepare(in_dir, pixdim=(1.5, 1.5, 1.0), a_min=-200, a_max=200, spatial_size=[128, 128, 64], cache=True):\n",
    "    \"\"\"\n",
    "    This function is for preprocessing, it contains only the basic transforms, but you can add more operations that you\n",
    "    find in the Monai documentation.\n",
    "    https://monai.io/docs.html\n",
    "    \"\"\"\n",
    "\n",
    "    set_determinism(seed=0)\n",
    "\n",
    "    path_train_volumes = sorted(glob(os.path.join(in_dir, \"TrainVolumes\", \"*.nii.gz\")))\n",
    "    path_train_segmentation = sorted(glob(os.path.join(in_dir, \"TrainSegmentation\", \"*.nii.gz\")))\n",
    "\n",
    "    path_test_volumes = sorted(glob(os.path.join(in_dir, \"TestVolumes\", \"*.nii.gz\")))\n",
    "    path_test_segmentation = sorted(glob(os.path.join(in_dir, \"TestSegmentation\", \"*.nii.gz\")))\n",
    "\n",
    "    train_files = [{\"vol\": image_name, \"seg\": label_name} for image_name, label_name in\n",
    "                   zip(path_train_volumes, path_train_segmentation)]\n",
    "    test_files = [{\"vol\": image_name, \"seg\": label_name} for image_name, label_name in\n",
    "                  zip(path_test_volumes, path_test_segmentation)]\n",
    "\n",
    "    train_transforms = Compose(\n",
    "        [\n",
    "            LoadImaged(keys=[\"vol\", \"seg\"]),\n",
    "            EnsureChannelFirstD(keys=[\"vol\", \"seg\"]),\n",
    "            Spacingd(keys=[\"vol\", \"seg\"], pixdim=pixdim, mode=(\"bilinear\", \"nearest\")),\n",
    "            Orientationd(keys=[\"vol\", \"seg\"], axcodes=\"RAS\"),\n",
    "            ScaleIntensityRanged(keys=[\"vol\"], a_min=a_min, a_max=a_max, b_min=0.0, b_max=1.0, clip=True),\n",
    "            CropForegroundd(keys=[\"vol\", \"seg\"], source_key=\"vol\"),\n",
    "            Resized(keys=[\"vol\", \"seg\"], spatial_size=spatial_size),\n",
    "            ToTensord(keys=[\"vol\", \"seg\"]),\n",
    "\n",
    "        ]\n",
    "    )\n",
    "\n",
    "    test_transforms = Compose(\n",
    "        [\n",
    "            LoadImaged(keys=[\"vol\", \"seg\"]),\n",
    "            EnsureChannelFirstD(keys=[\"vol\", \"seg\"]),\n",
    "            Spacingd(keys=[\"vol\", \"seg\"], pixdim=pixdim, mode=(\"bilinear\", \"nearest\")),\n",
    "            Orientationd(keys=[\"vol\", \"seg\"], axcodes=\"RAS\"),\n",
    "            ScaleIntensityRanged(keys=[\"vol\"], a_min=a_min, a_max=a_max, b_min=0.0, b_max=1.0, clip=True),\n",
    "            CropForegroundd(keys=['vol', 'seg'], source_key='vol'),\n",
    "            Resized(keys=[\"vol\", \"seg\"], spatial_size=spatial_size),\n",
    "            ToTensord(keys=[\"vol\", \"seg\"]),\n",
    "\n",
    "        ]\n",
    "    )\n",
    "\n",
    "    if cache:\n",
    "        train_ds = CacheDataset(data=train_files, transform=train_transforms, cache_rate=1.0)\n",
    "        train_loader = DataLoader(train_ds, batch_size=1)\n",
    "\n",
    "        test_ds = CacheDataset(data=test_files, transform=test_transforms, cache_rate=1.0)\n",
    "        test_loader = DataLoader(test_ds, batch_size=1)\n",
    "\n",
    "        return train_loader, test_loader\n",
    "\n",
    "    else:\n",
    "        train_ds = Dataset(data=train_files, transform=train_transforms)\n",
    "        train_loader = DataLoader(train_ds, batch_size=1)\n",
    "\n",
    "        test_ds = Dataset(data=test_files, transform=test_transforms)\n",
    "        test_loader = DataLoader(test_ds, batch_size=1)\n",
    "\n",
    "        return train_loader, test_loader"
   ]
  },
  {
   "cell_type": "code",
   "execution_count": 6,
   "metadata": {},
   "outputs": [],
   "source": [
    "import tqdm"
   ]
  },
  {
   "cell_type": "code",
   "execution_count": null,
   "metadata": {},
   "outputs": [
    {
     "ename": "",
     "evalue": "",
     "output_type": "error",
     "traceback": [
      "\u001b[1;31mThe Kernel crashed while executing code in the current cell or a previous cell. \n",
      "\u001b[1;31mPlease review the code in the cell(s) to identify a possible cause of the failure. \n",
      "\u001b[1;31mClick <a href='https://aka.ms/vscodeJupyterKernelCrash'>here</a> for more info. \n",
      "\u001b[1;31mView Jupyter <a href='command:jupyter.viewOutput'>log</a> for further details."
     ]
    }
   ],
   "source": [
    "def show_patient(data, SLICE_NUMBER=1, train=True, test=False):\n",
    "    \"\"\"\n",
    "    This function is to show one patient from your datasets, so that you can si if the it is okay or you need \n",
    "    to change/delete something.\n",
    "\n",
    "    `data`: this parameter should take the patients from the data loader, which means you need to can the function\n",
    "    prepare first and apply the transforms that you want after that pass it to this function so that you visualize \n",
    "    the patient with the transforms that you want.\n",
    "    `SLICE_NUMBER`: this parameter will take the slice number that you want to display/show\n",
    "    `train`: this parameter is to say that you want to display a patient from the training data (by default it is true)\n",
    "    `test`: this parameter is to say that you want to display a patient from the testing patients.\n",
    "    \"\"\"\n",
    "\n",
    "    check_patient_train, check_patient_test = data\n",
    "\n",
    "    view_train_patient = first(check_patient_train)\n",
    "    view_test_patient = first(check_patient_test)\n",
    "\n",
    "    \n",
    "    if train:\n",
    "        plt.figure(\"Visualization Train\", (12, 6))\n",
    "        plt.subplot(1, 2, 1)\n",
    "        plt.title(f\"vol {SLICE_NUMBER}\")\n",
    "        plt.imshow(view_train_patient[\"vol\"][0, 0, :, :, SLICE_NUMBER], cmap=\"gray\")\n",
    "\n",
    "        plt.subplot(1, 2, 2)\n",
    "        plt.title(f\"seg {SLICE_NUMBER}\")\n",
    "        plt.imshow(view_train_patient[\"seg\"][0, 0, :, :, SLICE_NUMBER])\n",
    "        plt.show()\n",
    "    \n",
    "    if test:\n",
    "        plt.figure(\"Visualization Test\", (12, 6))\n",
    "        plt.subplot(1, 2, 1)\n",
    "        plt.title(f\"vol {SLICE_NUMBER}\")\n",
    "        plt.imshow(view_test_patient[\"vol\"][0, 0, :, :, SLICE_NUMBER], cmap=\"gray\")\n",
    "\n",
    "        plt.subplot(1, 2, 2)\n",
    "        plt.title(f\"seg {SLICE_NUMBER}\")\n",
    "        plt.imshow(view_test_patient[\"seg\"][0, 0, :, :, SLICE_NUMBER])\n",
    "        plt.show()\n",
    "\n",
    "\n",
    "def calculate_pixels(data):\n",
    "    val = np.zeros((1, 2))\n",
    "\n",
    "    for batch in tqdm(data):\n",
    "        batch_label = batch[\"seg\"] != 0\n",
    "        _, count = np.unique(batch_label, return_counts=True)\n",
    "\n",
    "        if len(count) == 1:\n",
    "            count = np.append(count, 0)\n",
    "        val += count\n",
    "\n",
    "    print('The last values:', val)\n",
    "    return val"
   ]
  },
  {
   "cell_type": "code",
   "execution_count": 15,
   "metadata": {},
   "outputs": [
    {
     "name": "stderr",
     "output_type": "stream",
     "text": [
      "c:\\Users\\rajwn\\Videos\\monai_ML_project\\Atlas\\venv\\Lib\\site-packages\\monai\\utils\\deprecate_utils.py:321: FutureWarning: monai.transforms.croppad.dictionary CropForegroundd.__init__:allow_smaller: Current default value of argument `allow_smaller=True` has been deprecated since version 1.2. It will be changed to `allow_smaller=False` in version 1.5.\n",
      "  warn_deprecated(argname, msg, warning_category)\n",
      "Loading dataset: 100%|██████████| 51/51 [02:17<00:00,  2.70s/it]\n",
      "Loading dataset: 100%|██████████| 9/9 [00:24<00:00,  2.76s/it]\n"
     ]
    },
    {
     "data": {
      "image/png": "[encoded data removed]",
      "text/plain": [
       "<Figure size 1200x600 with 2 Axes>"
      ]
     },
     "metadata": {},
     "output_type": "display_data"
    }
   ],
   "source": [
    "patient = prepare(in_dir)\n",
    "show_patient(patient, 40)"
   ]
  },
  {
   "cell_type": "code",
   "execution_count": null,
   "metadata": {},
   "outputs": [],
   "source": []
  }
 ],
 "metadata": {
  "kernelspec": {
   "display_name": "venv",
   "language": "python",
   "name": "python3"
  },
  "language_info": {
   "codemirror_mode": {
    "name": "ipython",
    "version": 3
   },
   "file_extension": ".py",
   "mimetype": "text/x-python",
   "name": "python",
   "nbconvert_exporter": "python",
   "pygments_lexer": "ipython3",
   "version": "3.11.1"
  }
 },
 "nbformat": 4,
 "nbformat_minor": 2
}
